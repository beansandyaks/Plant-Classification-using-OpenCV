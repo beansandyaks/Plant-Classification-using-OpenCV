{
 "cells": [
  {
   "cell_type": "code",
   "execution_count": 1,
   "id": "62e74ac3",
   "metadata": {},
   "outputs": [
    {
     "ename": "ModuleNotFoundError",
     "evalue": "No module named 'cv2'",
     "output_type": "error",
     "traceback": [
      "\u001B[1;31m---------------------------------------------------------------------------\u001B[0m",
      "\u001B[1;31mModuleNotFoundError\u001B[0m                       Traceback (most recent call last)",
      "\u001B[1;32m~\\AppData\\Local\\Temp\\ipykernel_3540\\2652268521.py\u001B[0m in \u001B[0;36m<module>\u001B[1;34m\u001B[0m\n\u001B[1;32m----> 1\u001B[1;33m \u001B[1;32mimport\u001B[0m \u001B[0mcv2\u001B[0m \u001B[1;32mas\u001B[0m \u001B[0mcv\u001B[0m\u001B[1;33m\u001B[0m\u001B[1;33m\u001B[0m\u001B[0m\n\u001B[0m\u001B[0;32m      2\u001B[0m \u001B[1;32mimport\u001B[0m \u001B[0mnumpy\u001B[0m \u001B[1;32mas\u001B[0m \u001B[0mnp\u001B[0m\u001B[1;33m\u001B[0m\u001B[1;33m\u001B[0m\u001B[0m\n\u001B[0;32m      3\u001B[0m \u001B[1;32mfrom\u001B[0m \u001B[0mdecimal\u001B[0m \u001B[1;32mimport\u001B[0m \u001B[0mDecimal\u001B[0m\u001B[1;33m\u001B[0m\u001B[1;33m\u001B[0m\u001B[0m\n\u001B[0;32m      4\u001B[0m \u001B[1;32mimport\u001B[0m \u001B[0mos\u001B[0m\u001B[1;33m\u001B[0m\u001B[1;33m\u001B[0m\u001B[0m\n\u001B[0;32m      5\u001B[0m \u001B[1;32mfrom\u001B[0m \u001B[0msklearn\u001B[0m\u001B[1;33m.\u001B[0m\u001B[0mmodel_selection\u001B[0m \u001B[1;32mimport\u001B[0m \u001B[0mtrain_test_split\u001B[0m\u001B[1;33m\u001B[0m\u001B[1;33m\u001B[0m\u001B[0m\n",
      "\u001B[1;31mModuleNotFoundError\u001B[0m: No module named 'cv2'"
     ]
    }
   ],
   "source": [
    "import cv2 as cv\n",
    "import numpy as np\n",
    "from decimal import Decimal\n",
    "import os\n",
    "from sklearn.model_selection import train_test_split\n",
    "from sklearn.ensemble import RandomForestClassifier\n",
    "from sklearn import metrics"
   ]
  },
  {
   "cell_type": "code",
   "execution_count": null,
   "id": "223f4558",
   "metadata": {},
   "outputs": [],
   "source": []
  },
  {
   "cell_type": "code",
   "execution_count": 4,
   "id": "b02c925f",
   "metadata": {},
   "outputs": [
    {
     "ename": "NameError",
     "evalue": "name 'os' is not defined",
     "output_type": "error",
     "traceback": [
      "\u001B[1;31m---------------------------------------------------------------------------\u001B[0m",
      "\u001B[1;31mNameError\u001B[0m                                 Traceback (most recent call last)",
      "\u001B[1;32m~\\AppData\\Local\\Temp\\ipykernel_14312\\1826477871.py\u001B[0m in \u001B[0;36m<module>\u001B[1;34m\u001B[0m\n\u001B[0;32m      1\u001B[0m \u001B[0mpath\u001B[0m \u001B[1;33m=\u001B[0m \u001B[1;34m'Plant_Images'\u001B[0m\u001B[1;33m\u001B[0m\u001B[1;33m\u001B[0m\u001B[0m\n\u001B[1;32m----> 2\u001B[1;33m \u001B[0mfiles\u001B[0m\u001B[1;33m=\u001B[0m\u001B[0mos\u001B[0m\u001B[1;33m.\u001B[0m\u001B[0mlistdir\u001B[0m\u001B[1;33m(\u001B[0m\u001B[0mpath\u001B[0m\u001B[1;33m)\u001B[0m\u001B[1;33m\u001B[0m\u001B[1;33m\u001B[0m\u001B[0m\n\u001B[0m\u001B[0;32m      3\u001B[0m \u001B[0mimages\u001B[0m\u001B[1;33m=\u001B[0m\u001B[1;33m[\u001B[0m\u001B[1;33m]\u001B[0m\u001B[1;33m\u001B[0m\u001B[1;33m\u001B[0m\u001B[0m\n\u001B[0;32m      4\u001B[0m \u001B[0mlabels\u001B[0m\u001B[1;33m=\u001B[0m\u001B[1;33m[\u001B[0m\u001B[1;33m]\u001B[0m\u001B[1;33m\u001B[0m\u001B[1;33m\u001B[0m\u001B[0m\n\u001B[0;32m      5\u001B[0m \u001B[0maspect_ratios\u001B[0m\u001B[1;33m=\u001B[0m\u001B[1;33m[\u001B[0m\u001B[1;33m]\u001B[0m\u001B[1;33m\u001B[0m\u001B[1;33m\u001B[0m\u001B[0m\n",
      "\u001B[1;31mNameError\u001B[0m: name 'os' is not defined"
     ]
    }
   ],
   "source": [
    "path = 'Plant_Images'\n",
    "files=os.listdir(path)\n",
    "images=[]\n",
    "labels=[]\n",
    "aspect_ratios=[]\n",
    "variable=1\n",
    "var_=1"
   ]
  },
  {
   "cell_type": "code",
   "execution_count": 11,
   "id": "88be4336",
   "metadata": {
    "scrolled": false
   },
   "outputs": [
    {
     "name": "stdout",
     "output_type": "stream",
     "text": [
      "No. of contours detected -> 82 \n",
      "Aspect ratio 3.8238993710691824\n",
      "D:\\AI_CW\\demo\\leaves\\leaf_1.jpg\n",
      "No. of contours detected -> 102 \n",
      "Aspect ratio 3.625\n",
      "D:\\AI_CW\\demo\\leaves\\leaf_2.jpg\n",
      "No. of contours detected -> 298 \n",
      "Aspect ratio 3.0199430199430197\n",
      "D:\\AI_CW\\demo\\leaves\\leaf_3.jpg\n",
      "No. of contours detected -> 471 \n",
      "Aspect ratio 3.782857142857143\n",
      "D:\\AI_CW\\demo\\leaves\\leaf_4.jpg\n",
      "No. of contours detected -> 91 \n",
      "Aspect ratio 2.419512195121951\n",
      "D:\\AI_CW\\demo\\leaves\\leaf_5.jpg\n",
      "No. of contours detected -> 66 \n",
      "Aspect ratio 2.8819875776397517\n",
      "D:\\AI_CW\\demo\\leaves\\leaf_6.jpg\n",
      "No. of contours detected -> 67 \n",
      "Aspect ratio 2.5511363636363638\n",
      "D:\\AI_CW\\demo\\leaves\\leaf_7.jpg\n",
      "No. of contours detected -> 76 \n",
      "Aspect ratio 2.6698564593301435\n",
      "D:\\AI_CW\\demo\\leaves\\leaf_8.jpg\n",
      "No. of contours detected -> 67 \n",
      "Aspect ratio 3.080745341614907\n",
      "D:\\AI_CW\\demo\\leaves\\leaf_9.jpg\n",
      "No. of contours detected -> 66 \n",
      "Aspect ratio 3.9689922480620154\n",
      "D:\\AI_CW\\demo\\leaves\\leaf_10.jpg\n",
      "No. of contours detected -> 86 \n",
      "Aspect ratio 2.7233009708737863\n",
      "D:\\AI_CW\\demo\\leaves\\leaf_11.jpg\n",
      "No. of contours detected -> 68 \n",
      "Aspect ratio 3.55\n",
      "D:\\AI_CW\\demo\\leaves\\leaf_12.jpg\n",
      "No. of contours detected -> 75 \n",
      "Aspect ratio 2.9166666666666665\n",
      "D:\\AI_CW\\demo\\leaves\\leaf_13.jpg\n",
      "No. of contours detected -> 72 \n",
      "Aspect ratio 2.7604166666666665\n",
      "D:\\AI_CW\\demo\\leaves\\leaf_14.jpg\n",
      "No. of contours detected -> 70 \n",
      "Aspect ratio 2.7572815533980584\n",
      "D:\\AI_CW\\demo\\leaves\\leaf_15.jpg\n",
      "No. of contours detected -> 45 \n",
      "Aspect ratio 3.4518072289156625\n",
      "D:\\AI_CW\\demo\\leaves\\leaf_16.jpg\n",
      "No. of contours detected -> 88 \n",
      "Aspect ratio 2.302521008403361\n",
      "D:\\AI_CW\\demo\\leaves\\leaf_17.jpg\n",
      "No. of contours detected -> 74 \n",
      "Aspect ratio 3.2325581395348837\n",
      "D:\\AI_CW\\demo\\leaves\\leaf_18.jpg\n",
      "No. of contours detected -> 66 \n",
      "Aspect ratio 2.30672268907563\n",
      "D:\\AI_CW\\demo\\leaves\\leaf_19.jpg\n",
      "No. of contours detected -> 73 \n",
      "Aspect ratio 2.9585492227979273\n",
      "D:\\AI_CW\\demo\\leaves\\leaf_20.jpg\n",
      "No. of contours detected -> 66 \n",
      "Aspect ratio 1.4593301435406698\n",
      "D:\\AI_CW\\demo\\leaves\\leaf_21.jpg\n",
      "No. of contours detected -> 84 \n",
      "Aspect ratio 1.794871794871795\n",
      "D:\\AI_CW\\demo\\leaves\\leaf_22.jpg\n",
      "No. of contours detected -> 61 \n",
      "Aspect ratio 1.807909604519774\n",
      "D:\\AI_CW\\demo\\leaves\\leaf_23.jpg\n",
      "No. of contours detected -> 77 \n",
      "Aspect ratio 1.5841584158415842\n",
      "D:\\AI_CW\\demo\\leaves\\leaf_24.jpg\n",
      "No. of contours detected -> 62 \n",
      "Aspect ratio 1.555023923444976\n",
      "D:\\AI_CW\\demo\\leaves\\leaf_25.jpg\n",
      "No. of contours detected -> 78 \n",
      "Aspect ratio 1.2389705882352942\n",
      "D:\\AI_CW\\demo\\leaves\\leaf_26.jpg\n",
      "No. of contours detected -> 86 \n",
      "Aspect ratio 1.4872881355932204\n",
      "D:\\AI_CW\\demo\\leaves\\leaf_27.jpg\n",
      "No. of contours detected -> 82 \n",
      "Aspect ratio 1.5714285714285714\n",
      "D:\\AI_CW\\demo\\leaves\\leaf_28.jpg\n",
      "No. of contours detected -> 72 \n",
      "Aspect ratio 1.2857142857142858\n",
      "D:\\AI_CW\\demo\\leaves\\leaf_29.jpg\n",
      "No. of contours detected -> 49 \n",
      "Aspect ratio 1.40625\n",
      "D:\\AI_CW\\demo\\leaves\\leaf_30.jpg\n",
      "No. of contours detected -> 83 \n",
      "Aspect ratio 1.4497607655502391\n",
      "D:\\AI_CW\\demo\\leaves\\leaf_31.jpg\n",
      "No. of contours detected -> 68 \n",
      "Aspect ratio 1.4732142857142858\n",
      "D:\\AI_CW\\demo\\leaves\\leaf_32.jpg\n",
      "No. of contours detected -> 59 \n",
      "Aspect ratio 1.7471264367816093\n",
      "D:\\AI_CW\\demo\\leaves\\leaf_33.jpg\n",
      "No. of contours detected -> 113 \n",
      "Aspect ratio 1.5751295336787565\n",
      "D:\\AI_CW\\demo\\leaves\\leaf_34.jpg\n",
      "No. of contours detected -> 95 \n",
      "Aspect ratio 1.4431372549019608\n",
      "D:\\AI_CW\\demo\\leaves\\leaf_35.jpg\n",
      "No. of contours detected -> 90 \n",
      "Aspect ratio 1.7095435684647302\n",
      "D:\\AI_CW\\demo\\leaves\\leaf_36.jpg\n",
      "No. of contours detected -> 60 \n",
      "Aspect ratio 1.6363636363636365\n",
      "D:\\AI_CW\\demo\\leaves\\leaf_37.jpg\n",
      "No. of contours detected -> 67 \n",
      "Aspect ratio 1.5482233502538072\n",
      "D:\\AI_CW\\demo\\leaves\\leaf_38.jpg\n",
      "No. of contours detected -> 92 \n",
      "Aspect ratio 1.7216494845360826\n",
      "D:\\AI_CW\\demo\\leaves\\leaf_39.jpg\n",
      "No. of contours detected -> 70 \n",
      "Aspect ratio 1.4615384615384615\n",
      "D:\\AI_CW\\demo\\leaves\\leaf_40.jpg\n",
      "No. of contours detected -> 147 \n",
      "Aspect ratio 1.1953125\n",
      "D:\\AI_CW\\demo\\leaves\\leaf_41.jpg\n",
      "No. of contours detected -> 181 \n",
      "Aspect ratio 1.2526041666666667\n",
      "D:\\AI_CW\\demo\\leaves\\leaf_42.jpg\n",
      "No. of contours detected -> 171 \n",
      "Aspect ratio 1.2678571428571428\n",
      "D:\\AI_CW\\demo\\leaves\\leaf_43.jpg\n",
      "No. of contours detected -> 159 \n",
      "Aspect ratio 1.283132530120482\n",
      "D:\\AI_CW\\demo\\leaves\\leaf_44.jpg\n",
      "No. of contours detected -> 146 \n",
      "Aspect ratio 1.0823529411764705\n",
      "D:\\AI_CW\\demo\\leaves\\leaf_45.jpg\n",
      "No. of contours detected -> 147 \n",
      "Aspect ratio 0.9836601307189542\n",
      "D:\\AI_CW\\demo\\leaves\\leaf_46.jpg\n",
      "No. of contours detected -> 186 \n",
      "Aspect ratio 1.0919881305637982\n",
      "D:\\AI_CW\\demo\\leaves\\leaf_47.jpg\n",
      "No. of contours detected -> 233 \n",
      "Aspect ratio 1.0254957507082152\n",
      "D:\\AI_CW\\demo\\leaves\\leaf_48.jpg\n",
      "No. of contours detected -> 170 \n",
      "Aspect ratio 1.2105263157894737\n",
      "D:\\AI_CW\\demo\\leaves\\leaf_49.jpg\n",
      "No. of contours detected -> 240 \n",
      "Aspect ratio 1.2541899441340782\n",
      "D:\\AI_CW\\demo\\leaves\\leaf_50.jpg\n",
      "No. of contours detected -> 166 \n",
      "Aspect ratio 1.2380952380952381\n",
      "D:\\AI_CW\\demo\\leaves\\leaf_51.jpg\n",
      "No. of contours detected -> 196 \n",
      "Aspect ratio 1.3564954682779455\n",
      "D:\\AI_CW\\demo\\leaves\\leaf_52.jpg\n"
     ]
    }
   ],
   "source": [
    "for filename in files:\n",
    "    if filename.endswith(('.JPG', '.jpg')):\n",
    "        image_name= os.path.join(path,filename)\n",
    "        image= cv.imread(image_name)\n",
    "        images.append(image)\n",
    "        labels.append(filename)\n",
    "        #Extract label from file name\n",
    "        #labels.append(filename)\n",
    "        \n",
    "        #Converting image to create binary image\n",
    "        image_hsv= cv.cvtColor(image,cv.COLOR_BGR2HSV)\n",
    "        \n",
    "        #Mask()\n",
    "        lower_green = np.array([52,0,55])\n",
    "        upper_green = np.array([104,255,255])\n",
    "        mask=cv.inRange(image_hsv,lower_green,upper_green)\n",
    "        \n",
    "        #Output after masking\n",
    "        output_hsv = image_hsv.copy()\n",
    "        output_hsv[np.where(mask==0)] = 0\n",
    "        \n",
    "        \n",
    "        #Conversion to grayscale\n",
    "        gray=cv.cvtColor(output_hsv,cv.COLOR_BGR2GRAY)\n",
    "        \n",
    "        #Histogram Equalization\n",
    "        equal_histogram = cv.equalizeHist(gray)\n",
    "\n",
    "        #Applying Gaussian Blur\n",
    "        blur= cv.GaussianBlur(gray,(3,3),0)\n",
    "        \n",
    "        \n",
    "        #Thresholding the image to create binary Image\n",
    "        ret,binary=cv.threshold(blur,127,255,cv.THRESH_BINARY+cv.THRESH_OTSU)\n",
    "        \n",
    "        \n",
    "        \n",
    "        contours,_ = cv.findContours(binary,cv.RETR_EXTERNAL,cv.CHAIN_APPROX_SIMPLE)\n",
    "        \n",
    "        print(\"No. of contours detected -> %d \" %len(contours))\n",
    "        \n",
    "        contours= sorted(contours, key = cv.contourArea, reverse = True)[:1]\n",
    "        screen_contours = None\n",
    "        \n",
    "        for c in contours:\n",
    "            #Finding the bounding box of the leaf\n",
    "            x,y,w,h = cv.boundingRect(binary)\n",
    "            \n",
    "            #Drawing the bounding reactangle on the image\n",
    "            cv.rectangle(image,(x,y),(x+w,y+h),(0,255,0),2)\n",
    "            \n",
    "            #Calculate the aspect ratio of the leaf\n",
    "            a_ratio =float(w)/h\n",
    "            \n",
    "\n",
    "            print(\"Aspect ratio\",a_ratio)\n",
    "            aspect_ratios.append(a_ratio)\n",
    "        \n",
    "        file_name= \"D:\\AI_CW\\demo\\leaves\\leaf_\"+str(variable)+\".jpg\"\n",
    "        print(file_name)\n",
    "        variable+=1\n",
    "        cv.imwrite(file_name,image)\n",
    "        \n",
    "        \n",
    "      "
   ]
  },
  {
   "cell_type": "code",
   "execution_count": 12,
   "id": "9b09c5a9",
   "metadata": {},
   "outputs": [],
   "source": [
    "X = images\n",
    "y = aspect_ratios"
   ]
  },
  {
   "cell_type": "code",
   "execution_count": 14,
   "id": "2ab0d7d0",
   "metadata": {},
   "outputs": [
    {
     "data": {
      "text/plain": [
       "['0001_0014.jpg',\n",
       " '0001_0015.jpg',\n",
       " '0001_0018.jpg',\n",
       " '0001_0019.jpg',\n",
       " '0001_0027.jpg',\n",
       " '0001_0039.jpg',\n",
       " '0001_0040.jpg',\n",
       " '0001_0045.jpg',\n",
       " '0001_0055.jpg',\n",
       " '0001_0075.jpg',\n",
       " '0001_0077.jpg',\n",
       " '0001_0079.jpg',\n",
       " '0001_0087.jpg',\n",
       " '0001_0099.jpg',\n",
       " '0001_0115.jpg',\n",
       " '0001_0127.jpg',\n",
       " '0001_0130.jpg',\n",
       " '0001_0155.jpg',\n",
       " '0001_0157.jpg',\n",
       " '0001_0158.jpg',\n",
       " '0008_0001.jpg',\n",
       " '0008_0002.jpg',\n",
       " '0008_0003.jpg',\n",
       " '0008_0004.jpg',\n",
       " '0008_0005.jpg',\n",
       " '0008_0006.jpg',\n",
       " '0008_0007.jpg',\n",
       " '0008_0008.jpg',\n",
       " '0008_0009.jpg',\n",
       " '0008_0010.jpg',\n",
       " '0008_0011.jpg',\n",
       " '0008_0012.jpg',\n",
       " '0008_0013.jpg',\n",
       " '0008_0014.jpg',\n",
       " '0008_0015.jpg',\n",
       " '0008_0016.jpg',\n",
       " '0008_0017.jpg',\n",
       " '0008_0018.jpg',\n",
       " '0008_0019.jpg',\n",
       " '0008_0020.jpg',\n",
       " '0011_0004.jpg',\n",
       " '0011_0005.jpg',\n",
       " '0011_0006.jpg',\n",
       " '0011_0007.jpg',\n",
       " '0011_0008.jpg',\n",
       " '0011_0009.jpg',\n",
       " '0011_0010.jpg',\n",
       " '0011_0011.jpg',\n",
       " '0011_0012.jpg',\n",
       " '0011_0013.jpg',\n",
       " '0011_0014.jpg',\n",
       " '0011_0017.jpg']"
      ]
     },
     "execution_count": 14,
     "metadata": {},
     "output_type": "execute_result"
    }
   ],
   "source": [
    "labels"
   ]
  },
  {
   "cell_type": "code",
   "execution_count": 22,
   "id": "5b453c28",
   "metadata": {},
   "outputs": [],
   "source": [
    "d1 = {'plant1': 1, 'plant2': 2, 'plant3':3}\n",
    "\n",
    "p1 = int(labels[0][3:4])"
   ]
  },
  {
   "cell_type": "code",
   "execution_count": null,
   "id": "999bb394",
   "metadata": {},
   "outputs": [],
   "source": []
  },
  {
   "cell_type": "code",
   "execution_count": 23,
   "id": "8b3e4ae1",
   "metadata": {},
   "outputs": [
    {
     "ename": "KeyError",
     "evalue": "1",
     "output_type": "error",
     "traceback": [
      "\u001B[1;31m---------------------------------------------------------------------------\u001B[0m",
      "\u001B[1;31mKeyError\u001B[0m                                  Traceback (most recent call last)",
      "Input \u001B[1;32mIn [23]\u001B[0m, in \u001B[0;36m<cell line: 1>\u001B[1;34m()\u001B[0m\n\u001B[1;32m----> 1\u001B[0m \u001B[43md1\u001B[49m\u001B[43m[\u001B[49m\u001B[43mp1\u001B[49m\u001B[43m]\u001B[49m\n",
      "\u001B[1;31mKeyError\u001B[0m: 1"
     ]
    }
   ],
   "source": [
    "d1[p1]"
   ]
  },
  {
   "cell_type": "code",
   "execution_count": null,
   "id": "494b248f",
   "metadata": {},
   "outputs": [],
   "source": []
  },
  {
   "cell_type": "code",
   "execution_count": null,
   "id": "408e245f",
   "metadata": {},
   "outputs": [],
   "source": []
  },
  {
   "cell_type": "code",
   "execution_count": 7,
   "id": "59994930",
   "metadata": {},
   "outputs": [
    {
     "data": {
      "text/plain": [
       "[3.8238993710691824,\n",
       " 3.625,\n",
       " 3.0199430199430197,\n",
       " 3.782857142857143,\n",
       " 2.419512195121951,\n",
       " 2.8819875776397517,\n",
       " 2.5511363636363638,\n",
       " 2.6698564593301435,\n",
       " 3.080745341614907,\n",
       " 3.9689922480620154,\n",
       " 2.7233009708737863,\n",
       " 3.55,\n",
       " 2.9166666666666665,\n",
       " 2.7604166666666665,\n",
       " 2.7572815533980584,\n",
       " 3.4518072289156625,\n",
       " 2.302521008403361,\n",
       " 3.2325581395348837,\n",
       " 2.30672268907563,\n",
       " 2.9585492227979273,\n",
       " 1.4593301435406698,\n",
       " 1.794871794871795,\n",
       " 1.807909604519774,\n",
       " 1.5841584158415842,\n",
       " 1.555023923444976,\n",
       " 1.2389705882352942,\n",
       " 1.4872881355932204,\n",
       " 1.5714285714285714,\n",
       " 1.2857142857142858,\n",
       " 1.40625,\n",
       " 1.4497607655502391,\n",
       " 1.4732142857142858,\n",
       " 1.7471264367816093,\n",
       " 1.5751295336787565,\n",
       " 1.4431372549019608,\n",
       " 1.7095435684647302,\n",
       " 1.6363636363636365,\n",
       " 1.5482233502538072,\n",
       " 1.7216494845360826,\n",
       " 1.4615384615384615,\n",
       " 1.1953125,\n",
       " 1.2526041666666667,\n",
       " 1.2678571428571428,\n",
       " 1.283132530120482,\n",
       " 1.0823529411764705,\n",
       " 0.9836601307189542,\n",
       " 1.0919881305637982,\n",
       " 1.0254957507082152,\n",
       " 1.2105263157894737,\n",
       " 1.2541899441340782,\n",
       " 1.2380952380952381,\n",
       " 1.3564954682779455]"
      ]
     },
     "execution_count": 7,
     "metadata": {},
     "output_type": "execute_result"
    }
   ],
   "source": [
    "y"
   ]
  },
  {
   "cell_type": "code",
   "execution_count": 46,
   "id": "b261cab9",
   "metadata": {
    "scrolled": true
   },
   "outputs": [],
   "source": [
    "#Split data into Training and testing sets\n",
    "X_train, X_test, y_train, y_test = train_test_split(X, y, train_size = 0.7)"
   ]
  },
  {
   "cell_type": "code",
   "execution_count": 47,
   "id": "c3d4eb54",
   "metadata": {},
   "outputs": [
    {
     "data": {
      "text/plain": [
       "(36, 16)"
      ]
     },
     "execution_count": 47,
     "metadata": {},
     "output_type": "execute_result"
    }
   ],
   "source": [
    "len(X_train),len(X_test)"
   ]
  },
  {
   "cell_type": "code",
   "execution_count": 48,
   "id": "a25b3908",
   "metadata": {},
   "outputs": [
    {
     "data": {
      "text/plain": [
       "RandomForestClassifier(random_state=1)"
      ]
     },
     "execution_count": 48,
     "metadata": {},
     "output_type": "execute_result"
    }
   ],
   "source": [
    "clf = RandomForestClassifier(random_state=1)\n",
    "clf"
   ]
  },
  {
   "cell_type": "code",
   "execution_count": 49,
   "id": "ce3db0bc",
   "metadata": {},
   "outputs": [
    {
     "ename": "ValueError",
     "evalue": "setting an array element with a sequence. The requested array has an inhomogeneous shape after 1 dimensions. The detected shape was (36,) + inhomogeneous part.",
     "output_type": "error",
     "traceback": [
      "\u001B[1;31m---------------------------------------------------------------------------\u001B[0m",
      "\u001B[1;31mValueError\u001B[0m                                Traceback (most recent call last)",
      "Input \u001B[1;32mIn [49]\u001B[0m, in \u001B[0;36m<cell line: 1>\u001B[1;34m()\u001B[0m\n\u001B[1;32m----> 1\u001B[0m \u001B[43mclf\u001B[49m\u001B[38;5;241;43m.\u001B[39;49m\u001B[43mfit\u001B[49m\u001B[43m(\u001B[49m\u001B[43mX_train\u001B[49m\u001B[43m,\u001B[49m\u001B[43my_train\u001B[49m\u001B[43m)\u001B[49m\n",
      "File \u001B[1;32mD:\\Anaconda\\lib\\site-packages\\sklearn\\ensemble\\_forest.py:327\u001B[0m, in \u001B[0;36mBaseForest.fit\u001B[1;34m(self, X, y, sample_weight)\u001B[0m\n\u001B[0;32m    325\u001B[0m \u001B[38;5;28;01mif\u001B[39;00m issparse(y):\n\u001B[0;32m    326\u001B[0m     \u001B[38;5;28;01mraise\u001B[39;00m \u001B[38;5;167;01mValueError\u001B[39;00m(\u001B[38;5;124m\"\u001B[39m\u001B[38;5;124msparse multilabel-indicator for y is not supported.\u001B[39m\u001B[38;5;124m\"\u001B[39m)\n\u001B[1;32m--> 327\u001B[0m X, y \u001B[38;5;241m=\u001B[39m \u001B[38;5;28;43mself\u001B[39;49m\u001B[38;5;241;43m.\u001B[39;49m\u001B[43m_validate_data\u001B[49m\u001B[43m(\u001B[49m\n\u001B[0;32m    328\u001B[0m \u001B[43m    \u001B[49m\u001B[43mX\u001B[49m\u001B[43m,\u001B[49m\u001B[43m \u001B[49m\u001B[43my\u001B[49m\u001B[43m,\u001B[49m\u001B[43m \u001B[49m\u001B[43mmulti_output\u001B[49m\u001B[38;5;241;43m=\u001B[39;49m\u001B[38;5;28;43;01mTrue\u001B[39;49;00m\u001B[43m,\u001B[49m\u001B[43m \u001B[49m\u001B[43maccept_sparse\u001B[49m\u001B[38;5;241;43m=\u001B[39;49m\u001B[38;5;124;43m\"\u001B[39;49m\u001B[38;5;124;43mcsc\u001B[39;49m\u001B[38;5;124;43m\"\u001B[39;49m\u001B[43m,\u001B[49m\u001B[43m \u001B[49m\u001B[43mdtype\u001B[49m\u001B[38;5;241;43m=\u001B[39;49m\u001B[43mDTYPE\u001B[49m\n\u001B[0;32m    329\u001B[0m \u001B[43m\u001B[49m\u001B[43m)\u001B[49m\n\u001B[0;32m    330\u001B[0m \u001B[38;5;28;01mif\u001B[39;00m sample_weight \u001B[38;5;129;01mis\u001B[39;00m \u001B[38;5;129;01mnot\u001B[39;00m \u001B[38;5;28;01mNone\u001B[39;00m:\n\u001B[0;32m    331\u001B[0m     sample_weight \u001B[38;5;241m=\u001B[39m _check_sample_weight(sample_weight, X)\n",
      "File \u001B[1;32mD:\\Anaconda\\lib\\site-packages\\sklearn\\base.py:581\u001B[0m, in \u001B[0;36mBaseEstimator._validate_data\u001B[1;34m(self, X, y, reset, validate_separately, **check_params)\u001B[0m\n\u001B[0;32m    579\u001B[0m         y \u001B[38;5;241m=\u001B[39m check_array(y, \u001B[38;5;241m*\u001B[39m\u001B[38;5;241m*\u001B[39mcheck_y_params)\n\u001B[0;32m    580\u001B[0m     \u001B[38;5;28;01melse\u001B[39;00m:\n\u001B[1;32m--> 581\u001B[0m         X, y \u001B[38;5;241m=\u001B[39m check_X_y(X, y, \u001B[38;5;241m*\u001B[39m\u001B[38;5;241m*\u001B[39mcheck_params)\n\u001B[0;32m    582\u001B[0m     out \u001B[38;5;241m=\u001B[39m X, y\n\u001B[0;32m    584\u001B[0m \u001B[38;5;28;01mif\u001B[39;00m \u001B[38;5;129;01mnot\u001B[39;00m no_val_X \u001B[38;5;129;01mand\u001B[39;00m check_params\u001B[38;5;241m.\u001B[39mget(\u001B[38;5;124m\"\u001B[39m\u001B[38;5;124mensure_2d\u001B[39m\u001B[38;5;124m\"\u001B[39m, \u001B[38;5;28;01mTrue\u001B[39;00m):\n",
      "File \u001B[1;32mD:\\Anaconda\\lib\\site-packages\\sklearn\\utils\\validation.py:964\u001B[0m, in \u001B[0;36mcheck_X_y\u001B[1;34m(X, y, accept_sparse, accept_large_sparse, dtype, order, copy, force_all_finite, ensure_2d, allow_nd, multi_output, ensure_min_samples, ensure_min_features, y_numeric, estimator)\u001B[0m\n\u001B[0;32m    961\u001B[0m \u001B[38;5;28;01mif\u001B[39;00m y \u001B[38;5;129;01mis\u001B[39;00m \u001B[38;5;28;01mNone\u001B[39;00m:\n\u001B[0;32m    962\u001B[0m     \u001B[38;5;28;01mraise\u001B[39;00m \u001B[38;5;167;01mValueError\u001B[39;00m(\u001B[38;5;124m\"\u001B[39m\u001B[38;5;124my cannot be None\u001B[39m\u001B[38;5;124m\"\u001B[39m)\n\u001B[1;32m--> 964\u001B[0m X \u001B[38;5;241m=\u001B[39m \u001B[43mcheck_array\u001B[49m\u001B[43m(\u001B[49m\n\u001B[0;32m    965\u001B[0m \u001B[43m    \u001B[49m\u001B[43mX\u001B[49m\u001B[43m,\u001B[49m\n\u001B[0;32m    966\u001B[0m \u001B[43m    \u001B[49m\u001B[43maccept_sparse\u001B[49m\u001B[38;5;241;43m=\u001B[39;49m\u001B[43maccept_sparse\u001B[49m\u001B[43m,\u001B[49m\n\u001B[0;32m    967\u001B[0m \u001B[43m    \u001B[49m\u001B[43maccept_large_sparse\u001B[49m\u001B[38;5;241;43m=\u001B[39;49m\u001B[43maccept_large_sparse\u001B[49m\u001B[43m,\u001B[49m\n\u001B[0;32m    968\u001B[0m \u001B[43m    \u001B[49m\u001B[43mdtype\u001B[49m\u001B[38;5;241;43m=\u001B[39;49m\u001B[43mdtype\u001B[49m\u001B[43m,\u001B[49m\n\u001B[0;32m    969\u001B[0m \u001B[43m    \u001B[49m\u001B[43morder\u001B[49m\u001B[38;5;241;43m=\u001B[39;49m\u001B[43morder\u001B[49m\u001B[43m,\u001B[49m\n\u001B[0;32m    970\u001B[0m \u001B[43m    \u001B[49m\u001B[43mcopy\u001B[49m\u001B[38;5;241;43m=\u001B[39;49m\u001B[43mcopy\u001B[49m\u001B[43m,\u001B[49m\n\u001B[0;32m    971\u001B[0m \u001B[43m    \u001B[49m\u001B[43mforce_all_finite\u001B[49m\u001B[38;5;241;43m=\u001B[39;49m\u001B[43mforce_all_finite\u001B[49m\u001B[43m,\u001B[49m\n\u001B[0;32m    972\u001B[0m \u001B[43m    \u001B[49m\u001B[43mensure_2d\u001B[49m\u001B[38;5;241;43m=\u001B[39;49m\u001B[43mensure_2d\u001B[49m\u001B[43m,\u001B[49m\n\u001B[0;32m    973\u001B[0m \u001B[43m    \u001B[49m\u001B[43mallow_nd\u001B[49m\u001B[38;5;241;43m=\u001B[39;49m\u001B[43mallow_nd\u001B[49m\u001B[43m,\u001B[49m\n\u001B[0;32m    974\u001B[0m \u001B[43m    \u001B[49m\u001B[43mensure_min_samples\u001B[49m\u001B[38;5;241;43m=\u001B[39;49m\u001B[43mensure_min_samples\u001B[49m\u001B[43m,\u001B[49m\n\u001B[0;32m    975\u001B[0m \u001B[43m    \u001B[49m\u001B[43mensure_min_features\u001B[49m\u001B[38;5;241;43m=\u001B[39;49m\u001B[43mensure_min_features\u001B[49m\u001B[43m,\u001B[49m\n\u001B[0;32m    976\u001B[0m \u001B[43m    \u001B[49m\u001B[43mestimator\u001B[49m\u001B[38;5;241;43m=\u001B[39;49m\u001B[43mestimator\u001B[49m\u001B[43m,\u001B[49m\n\u001B[0;32m    977\u001B[0m \u001B[43m\u001B[49m\u001B[43m)\u001B[49m\n\u001B[0;32m    979\u001B[0m y \u001B[38;5;241m=\u001B[39m _check_y(y, multi_output\u001B[38;5;241m=\u001B[39mmulti_output, y_numeric\u001B[38;5;241m=\u001B[39my_numeric)\n\u001B[0;32m    981\u001B[0m check_consistent_length(X, y)\n",
      "File \u001B[1;32mD:\\Anaconda\\lib\\site-packages\\sklearn\\utils\\validation.py:746\u001B[0m, in \u001B[0;36mcheck_array\u001B[1;34m(array, accept_sparse, accept_large_sparse, dtype, order, copy, force_all_finite, ensure_2d, allow_nd, ensure_min_samples, ensure_min_features, estimator)\u001B[0m\n\u001B[0;32m    744\u001B[0m         array \u001B[38;5;241m=\u001B[39m array\u001B[38;5;241m.\u001B[39mastype(dtype, casting\u001B[38;5;241m=\u001B[39m\u001B[38;5;124m\"\u001B[39m\u001B[38;5;124munsafe\u001B[39m\u001B[38;5;124m\"\u001B[39m, copy\u001B[38;5;241m=\u001B[39m\u001B[38;5;28;01mFalse\u001B[39;00m)\n\u001B[0;32m    745\u001B[0m     \u001B[38;5;28;01melse\u001B[39;00m:\n\u001B[1;32m--> 746\u001B[0m         array \u001B[38;5;241m=\u001B[39m \u001B[43mnp\u001B[49m\u001B[38;5;241;43m.\u001B[39;49m\u001B[43masarray\u001B[49m\u001B[43m(\u001B[49m\u001B[43marray\u001B[49m\u001B[43m,\u001B[49m\u001B[43m \u001B[49m\u001B[43morder\u001B[49m\u001B[38;5;241;43m=\u001B[39;49m\u001B[43morder\u001B[49m\u001B[43m,\u001B[49m\u001B[43m \u001B[49m\u001B[43mdtype\u001B[49m\u001B[38;5;241;43m=\u001B[39;49m\u001B[43mdtype\u001B[49m\u001B[43m)\u001B[49m\n\u001B[0;32m    747\u001B[0m \u001B[38;5;28;01mexcept\u001B[39;00m ComplexWarning \u001B[38;5;28;01mas\u001B[39;00m complex_warning:\n\u001B[0;32m    748\u001B[0m     \u001B[38;5;28;01mraise\u001B[39;00m \u001B[38;5;167;01mValueError\u001B[39;00m(\n\u001B[0;32m    749\u001B[0m         \u001B[38;5;124m\"\u001B[39m\u001B[38;5;124mComplex data not supported\u001B[39m\u001B[38;5;130;01m\\n\u001B[39;00m\u001B[38;5;132;01m{}\u001B[39;00m\u001B[38;5;130;01m\\n\u001B[39;00m\u001B[38;5;124m\"\u001B[39m\u001B[38;5;241m.\u001B[39mformat(array)\n\u001B[0;32m    750\u001B[0m     ) \u001B[38;5;28;01mfrom\u001B[39;00m \u001B[38;5;21;01mcomplex_warning\u001B[39;00m\n",
      "\u001B[1;31mValueError\u001B[0m: setting an array element with a sequence. The requested array has an inhomogeneous shape after 1 dimensions. The detected shape was (36,) + inhomogeneous part."
     ]
    }
   ],
   "source": [
    "clf.fit(X_train,y_train)"
   ]
  },
  {
   "cell_type": "code",
   "execution_count": null,
   "id": "85aa44ee",
   "metadata": {},
   "outputs": [],
   "source": [
    "# Make predictions on the test data\n",
    "predictions = model.predict(X_test)"
   ]
  },
  {
   "cell_type": "code",
   "execution_count": null,
   "id": "ce6bf684",
   "metadata": {},
   "outputs": [],
   "source": [
    "# Evaluate the model\n",
    "accuracy = model.score(X_test, y_test)\n",
    "print(\"Accuracy:\", accuracy)"
   ]
  }
 ],
 "metadata": {
  "kernelspec": {
   "display_name": "Python 3 (ipykernel)",
   "language": "python",
   "name": "python3"
  },
  "language_info": {
   "codemirror_mode": {
    "name": "ipython",
    "version": 3
   },
   "file_extension": ".py",
   "mimetype": "text/x-python",
   "name": "python",
   "nbconvert_exporter": "python",
   "pygments_lexer": "ipython3",
   "version": "3.9.13"
  },
  "vscode": {
   "interpreter": {
    "hash": "88279d2366fe020547cde40dd65aa0e3aa662a6ec1f3ca12d88834876c85e1a6"
   }
  }
 },
 "nbformat": 4,
 "nbformat_minor": 5
}
